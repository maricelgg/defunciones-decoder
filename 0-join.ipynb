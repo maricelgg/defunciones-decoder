{
 "cells": [
  {
   "cell_type": "code",
   "execution_count": null,
   "metadata": {},
   "outputs": [],
   "source": [
    "import dataLoad as dl\n",
    "import os, time, datetime, json\n",
    "\n",
    "# Locals v/s floydhub\n",
    "if 'TERM_PROGRAM' in os.environ:\n",
    "    input_path = '/Users/N/repositories/datasets/'\n",
    "    save_path = './data/'\n",
    "else:\n",
    "    input_path = '/floyd/input/'\n",
    "    save_path = './data/'"
   ]
  },
  {
   "cell_type": "code",
   "execution_count": null,
   "metadata": {},
   "outputs": [],
   "source": [
    "dl = dl.dataLoad(input_path + 'defunciones_deis/', debug=True, use_dask=False)\n",
    "\n",
    "start = time.clock()\n",
    "dl.load()\n",
    "result = dl.get_result()\n",
    "result.to_csv(save_path + 'defunciones-deis-1998-2016.csv', index=False)\n",
    "\n",
    "shape = result.shape\n",
    "\n",
    "print('{} for {}'.format(datetime.timedelta(seconds=time.clock() - start), shape))\n",
    "\n",
    "# Dtypes\n",
    "dtypes = {}\n",
    "\n",
    "for key in result.dtypes.to_dict().keys():\n",
    "    dtypes[key] = str(result.dtypes[key])\n",
    "\n",
    "with open(save_path + 'dtypes.json', 'w') as outfile:\n",
    "    json.dump(dtypes, outfile)"
   ]
  },
  {
   "cell_type": "code",
   "execution_count": null,
   "metadata": {},
   "outputs": [],
   "source": []
  }
 ],
 "metadata": {
  "jupytext": {},
  "kernelspec": {
   "display_name": "Python 3",
   "language": "python",
   "name": "python3"
  },
  "language_info": {
   "codemirror_mode": {
    "name": "ipython",
    "version": 3
   },
   "file_extension": ".py",
   "mimetype": "text/x-python",
   "name": "python",
   "nbconvert_exporter": "python",
   "pygments_lexer": "ipython3",
   "version": "3.6.6"
  }
 },
 "nbformat": 4,
 "nbformat_minor": 2
}
